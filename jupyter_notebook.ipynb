{
 "cells": [
  {
   "cell_type": "markdown",
   "metadata": {},
   "source": [
    "# Using Jupyter Notebooks and Markdown"
   ]
  },
  {
   "cell_type": "markdown",
   "metadata": {},
   "source": [
    "This Jupyter notebook will provide a basic overview of how to create a .ipynb document. First, in order to edit the contents of a Markdown cell, double click it. Run the cell by pressing 'shift + enter'. Now let's look at basic Markdown syntax."
   ]
  },
  {
   "cell_type": "markdown",
   "metadata": {},
   "source": [
    "To create a cell with Markdown syntax, you need to select 'Markdown' from the dropdown menu where 'Code' is currently displayed. This dropdown menu is used to alternate between the programming language of your Kernel (currently Python 3) and the Markdown syntax, which is helpful when you want to explain the chunk of code you are about to run.\n",
    "\n",
    "The code chunk below is going to perform some math."
   ]
  },
  {
   "cell_type": "code",
   "execution_count": 3,
   "metadata": {},
   "outputs": [
    {
     "name": "stdout",
     "output_type": "stream",
     "text": [
      "2\n"
     ]
    }
   ],
   "source": [
    "# the code below will print the output of 1+1\n",
    "print(1+1)"
   ]
  },
  {
   "cell_type": "markdown",
   "metadata": {},
   "source": [
    "Now you can see the benefit of Jupyter notebooks, as you can explain your code using Markdown, display the code chunk written in the programming language, and show the output of the code chunk."
   ]
  },
  {
   "cell_type": "markdown",
   "metadata": {},
   "source": [
    "### Markdown Syntax\n",
    "Now, we'll take a look at some of the things you can do with Markdown.\n",
    "\n",
    "Pound symbols are used to create headers, one 1 symbol creates a header, 2 symbols create a smaller header, and so on.\n",
    "\n",
    "# H1\n",
    "## H2\n",
    "### H3\n",
    "#### H4"
   ]
  },
  {
   "cell_type": "markdown",
   "metadata": {},
   "source": [
    "In order to start a new line of text, you have to press 'enter'/'return' twice following the prior sentence. \n",
    "If you do not leave a space between sentences, they will join together in one paragraph.\n",
    "\n",
    "Use asterisks to create an unordered list:\n",
    "* Idea 1\n",
    "* Idea 2\n",
    "* Idea 3\n",
    "\n",
    "Use numbers to create a numbered list:\n",
    "1. First item\n",
    "2. Second item\n",
    "3. Third item\n",
    "\n",
    "Sometimes it's helpful to insert a URL link into your document. You can do this by pasting the URL directly www.google.com and you can also edit the text of the hyperlink by placing the text in brackets and the URL in parentheses [like this](www.google.com)."
   ]
  },
  {
   "cell_type": "markdown",
   "metadata": {},
   "source": [
    "There are many resources online if you want to learn about more things you can do with Markdown."
   ]
  },
  {
   "cell_type": "markdown",
   "metadata": {},
   "source": [
    "## Practice on your own!"
   ]
  },
  {
   "cell_type": "code",
   "execution_count": null,
   "metadata": {},
   "outputs": [],
   "source": []
  }
 ],
 "metadata": {
  "kernelspec": {
   "display_name": "Python 3",
   "language": "python",
   "name": "python3"
  },
  "language_info": {
   "codemirror_mode": {
    "name": "ipython",
    "version": 3
   },
   "file_extension": ".py",
   "mimetype": "text/x-python",
   "name": "python",
   "nbconvert_exporter": "python",
   "pygments_lexer": "ipython3",
   "version": "3.7.6"
  }
 },
 "nbformat": 4,
 "nbformat_minor": 4
}
